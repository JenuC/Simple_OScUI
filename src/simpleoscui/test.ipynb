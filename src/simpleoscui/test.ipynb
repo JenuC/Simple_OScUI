{
 "cells": [
  {
   "cell_type": "code",
   "execution_count": 1,
   "metadata": {},
   "outputs": [
    {
     "name": "stderr",
     "output_type": "stream",
     "text": [
      "c:\\Users\\lociuser\\AppData\\Local\\miniconda3\\envs\\pycromanager-env\\lib\\site-packages\\pycromanager\\zmq_bridge\\bridge.py:307: UserWarning: Version mistmatch between Java ZMQ server and Python client. \n",
      "Java ZMQ server version: 5.0.0\n",
      "Python client expected version: 5.1.0\n",
      " To fix, update to BOTH latest pycromanager and latest micro-manager nightly build\n",
      "  warnings.warn(\n"
     ]
    }
   ],
   "source": [
    "import pycromanager\n",
    "\n",
    "\n",
    "\n",
    "core = pycromanager.Core()\n",
    "studio = pycromanager.Studio()\n",
    "#core.set_timeout_ms(timeout)\n"
   ]
  },
  {
   "cell_type": "code",
   "execution_count": 5,
   "metadata": {},
   "outputs": [
    {
     "ename": "AttributeError",
     "evalue": "'str' object has no attribute 'dtype'",
     "output_type": "error",
     "traceback": [
      "\u001b[1;31m---------------------------------------------------------------------------\u001b[0m",
      "\u001b[1;31mAttributeError\u001b[0m                            Traceback (most recent call last)",
      "\u001b[1;32mc:\\Users\\lociuser\\code\\Simple_OScUI\\simpleoscui\\src\\simpleoscui\\test.ipynb Cell 2\u001b[0m line \u001b[0;36m2\n\u001b[0;32m      <a href='vscode-notebook-cell:/c%3A/Users/lociuser/code/Simple_OScUI/simpleoscui/src/simpleoscui/test.ipynb#W1sZmlsZQ%3D%3D?line=0'>1</a>\u001b[0m cfd \u001b[39m=\u001b[39mcore\u001b[39m.\u001b[39mget_property(\u001b[39m\"\u001b[39m\u001b[39mOSc-LSM\u001b[39m\u001b[39m\"\u001b[39m,\u001b[39m\"\u001b[39m\u001b[39mBH-TCSPC-RateCounter-CFD\u001b[39m\u001b[39m\"\u001b[39m)\n\u001b[1;32m----> <a href='vscode-notebook-cell:/c%3A/Users/lociuser/code/Simple_OScUI/simpleoscui/src/simpleoscui/test.ipynb#W1sZmlsZQ%3D%3D?line=1'>2</a>\u001b[0m \u001b[39mprint\u001b[39m(cfd\u001b[39m.\u001b[39;49mdtype)\n\u001b[0;32m      <a href='vscode-notebook-cell:/c%3A/Users/lociuser/code/Simple_OScUI/simpleoscui/src/simpleoscui/test.ipynb#W1sZmlsZQ%3D%3D?line=2'>3</a>\u001b[0m cfd \u001b[39m=\u001b[39m \u001b[39mfloat\u001b[39m(cfd)\n\u001b[0;32m      <a href='vscode-notebook-cell:/c%3A/Users/lociuser/code/Simple_OScUI/simpleoscui/src/simpleoscui/test.ipynb#W1sZmlsZQ%3D%3D?line=3'>4</a>\u001b[0m \u001b[39mif\u001b[39;00m cfd \u001b[39m==\u001b[39m\u001b[39m0\u001b[39m:\n",
      "\u001b[1;31mAttributeError\u001b[0m: 'str' object has no attribute 'dtype'"
     ]
    }
   ],
   "source": [
    "\n",
    "cfd =core.get_property(\"OSc-LSM\",\"BH-TCSPC-RateCounter-CFD\")\n",
    "print(cfd.dtype)\n",
    "cfd = float(cfd)\n",
    "if cfd ==0:\n",
    "   print(\"overload detected\") \n",
    "\n",
    "\n"
   ]
  },
  {
   "cell_type": "code",
   "execution_count": null,
   "metadata": {},
   "outputs": [],
   "source": []
  }
 ],
 "metadata": {
  "kernelspec": {
   "display_name": "Python 3",
   "language": "python",
   "name": "python3"
  },
  "language_info": {
   "codemirror_mode": {
    "name": "ipython",
    "version": 3
   },
   "file_extension": ".py",
   "mimetype": "text/x-python",
   "name": "python",
   "nbconvert_exporter": "python",
   "pygments_lexer": "ipython3",
   "version": "3.10.0"
  }
 },
 "nbformat": 4,
 "nbformat_minor": 2
}
